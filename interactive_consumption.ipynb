{
 "cells": [
  {
   "cell_type": "markdown",
   "metadata": {},
   "source": [
    "The cell below defines functions to calculate the consumption path for CRRA utility. You need to run this cell before any of the code below will work. "
   ]
  },
  {
   "cell_type": "code",
   "execution_count": 1,
   "metadata": {},
   "outputs": [
    {
     "data": {
      "text/plain": [
       "consumption (generic function with 1 method)"
      ]
     },
     "execution_count": 1,
     "metadata": {},
     "output_type": "execute_result"
    }
   ],
   "source": [
    "using Optim\n",
    "function u(c, ρ)\n",
    "    if ρ==1\n",
    "        return log(c)\n",
    "    else\n",
    "        return (c^(1-ρ)-1)/(1-ρ)\n",
    "    end\n",
    "end\n",
    "\n",
    "function consumption(a0, y, m, β, δ, ρ)\n",
    "    current_budget = a0 + y[1] -m[1]\n",
    "    #println(length(y))\n",
    "    if length(y) != length(m)\n",
    "        return -Inf\n",
    "    elseif length(y)==1\n",
    "        return [current_budget]\n",
    "    elseif current_budget <0\n",
    "        return [-Inf]\n",
    "    else\n",
    "        next_y = y[2:end]\n",
    "        next_m = m[2:end]\n",
    "        next_c(c) = consumption(current_budget-c, next_y, next_m, β, δ, ρ)\n",
    "        function utility(c)\n",
    "            next_c_vec = next_c(c)\n",
    "            if c<0 || minimum(next_c_vec) < 0\n",
    "                return Inf\n",
    "            end\n",
    "            U = u(c, ρ)+ β * sum([δ^t * u(next_c_vec[t], ρ) for t in 1:length(next_c_vec)])\n",
    "            return -U\n",
    "        end\n",
    "        if length(y)==5\n",
    "            c_opt = optimize(utility, 0, current_budget, store_trace= true)\n",
    "        else\n",
    "            c_opt = optimize(utility, 0, current_budget)\n",
    "        end\n",
    "        c_star = Optim.minimizer(c_opt)\n",
    "        c_vec =  next_c(c_star)\n",
    "        pushfirst!(c_vec, c_star)\n",
    "        return c_vec\n",
    "    end\n",
    "end"
   ]
  },
  {
   "cell_type": "markdown",
   "metadata": {},
   "source": [
    "The cell below sets parameter values, and then calculates a consumption path based on those parameters. You can choose values for β, δ, and ρ (the CRRA coefficient). a0 is the assets that the agent starts with. y and m are respectively vectors of the income payments received at the start of each period, and the mortgage payments made at the start of each period. These vectors need to be the same length as each other (corresponding to the number of periods you want to model). Any length up to 5 runs nearly instantly, but 6 or more will take time to run. Run this cell every time you want to change the parameter values."
   ]
  },
  {
   "cell_type": "code",
   "execution_count": 2,
   "metadata": {},
   "outputs": [
    {
     "data": {
      "text/plain": [
       "5-element Vector{Int64}:\n",
       "   0\n",
       "   0\n",
       "   0\n",
       " 400\n",
       "   0"
      ]
     },
     "execution_count": 2,
     "metadata": {},
     "output_type": "execute_result"
    }
   ],
   "source": [
    "β = 0.6\n",
    "δ = 0.95\n",
    "ρ = 1.5\n",
    "a0 = 0\n",
    "y = [1000, 0, 1000, 0, 0]\n",
    "m = [0, 0, 0, 400, 0]\n",
    "\n",
    "c = consumption(a0, y, m, β, δ, ρ)"
   ]
  },
  {
   "cell_type": "markdown",
   "metadata": {},
   "source": [
    "The cell below can be used to calculate whatever patterns in consumption you want to check by accessing elements of the vector c defined above. As an example, I've set it up to calculate the proportional slope in consumption between the first and second period, c_2 / c_1, and the slope between the third and fourth period, c_4/c_3."
   ]
  },
  {
   "cell_type": "code",
   "execution_count": 11,
   "metadata": {},
   "outputs": [
    {
     "name": "stdout",
     "output_type": "stream",
     "text": [
      "0.9009839164813276\n",
      "0.8533690291053004\n"
     ]
    }
   ],
   "source": [
    "println(c[2]/c[1])\n",
    "println(c[4]/c[3])"
   ]
  }
 ],
 "metadata": {
  "kernelspec": {
   "display_name": "Julia 1.7.2",
   "language": "julia",
   "name": "julia-1.7"
  },
  "language_info": {
   "file_extension": ".jl",
   "mimetype": "application/julia",
   "name": "julia",
   "version": "1.7.2"
  }
 },
 "nbformat": 4,
 "nbformat_minor": 4
}
