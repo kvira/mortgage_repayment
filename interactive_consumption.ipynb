{
 "cells": [
  {
   "cell_type": "markdown",
   "metadata": {},
   "source": [
    "The cell below defines functions to calculate the consumption path for CRRA utility."
   ]
  },
  {
   "cell_type": "code",
   "execution_count": null,
   "metadata": {},
   "outputs": [],
   "source": [
    "using Optim\n",
    "using Plots\n",
    "function u(c, ρ)\n",
    "    if ρ==1\n",
    "        return log(c)\n",
    "    else\n",
    "        return (c^(1-ρ)-1)/(1-ρ)\n",
    "    end\n",
    "end\n",
    "\n",
    "function consumption(a0, y, m, β, δ, ρ)\n",
    "    current_budget = a0 + y[1] -m[1]\n",
    "    #println(length(y))\n",
    "    if length(y) != length(m)\n",
    "        return -Inf\n",
    "    elseif length(y)==1\n",
    "        return [current_budget]\n",
    "    elseif current_budget <0\n",
    "        return [-Inf]\n",
    "    else\n",
    "        next_y = y[2:end]\n",
    "        next_m = m[2:end]\n",
    "        next_c(c) = consumption(current_budget-c, next_y, next_m, β, δ, ρ)\n",
    "        function utility(c)\n",
    "            next_c_vec = next_c(c)\n",
    "            if c<0 || minimum(next_c_vec) < 0\n",
    "                return Inf\n",
    "            end\n",
    "            U = u(c, ρ)+ β * sum([δ^t * u(next_c_vec[t], ρ) for t in 1:length(next_c_vec)])\n",
    "            return -U\n",
    "        end\n",
    "        if length(y)==5\n",
    "            c_opt = optimize(utility, 0, current_budget, store_trace= true)\n",
    "        else\n",
    "            c_opt = optimize(utility, 0, current_budget)\n",
    "        end\n",
    "        c_star = Optim.minimizer(c_opt)\n",
    "        c_vec =  next_c(c_star)\n",
    "        pushfirst!(c_vec, c_star)\n",
    "        return c_vec\n",
    "    end\n",
    "end"
   ]
  },
  {
   "cell_type": "code",
   "execution_count": null,
   "metadata": {},
   "outputs": [],
   "source": []
  }
 ],
 "metadata": {
  "kernelspec": {
   "display_name": "Julia 1.6.2",
   "language": "julia",
   "name": "julia-1.6"
  },
  "language_info": {
   "file_extension": ".jl",
   "mimetype": "application/julia",
   "name": "julia",
   "version": "1.6.2"
  },
  "orig_nbformat": 4
 },
 "nbformat": 4,
 "nbformat_minor": 2
}
